{
 "cells": [
  {
   "cell_type": "markdown",
   "metadata": {},
   "source": [
    "<p style=\"font-family: Arial; font-size:3em;color:black;\"> Session 4 - Lab Exercise 7</p>"
   ]
  },
  {
   "cell_type": "markdown",
   "metadata": {},
   "source": [
    "We will use the titanic dataset from Kaggle (https://www.kaggle.com/). This is a well-known dataset and we will use it for classification- if the passenger survived or passed away."
   ]
  },
  {
   "cell_type": "code",
   "execution_count": 1,
   "metadata": {},
   "outputs": [],
   "source": [
    "import pandas as pd\n",
    "import numpy as np\n",
    "import matplotlib.pyplot as plt\n",
    "%matplotlib inline"
   ]
  },
  {
   "cell_type": "code",
   "execution_count": 2,
   "metadata": {},
   "outputs": [],
   "source": [
    "training_DF = pd.read_csv('titanic_dataset_GBC.csv')"
   ]
  },
  {
   "cell_type": "code",
   "execution_count": 3,
   "metadata": {},
   "outputs": [],
   "source": [
    "training_DF['Age'].fillna(training_DF['Age'].mean(), inplace=True)"
   ]
  },
  {
   "cell_type": "code",
   "execution_count": 4,
   "metadata": {},
   "outputs": [],
   "source": [
    "training_DF.drop('Cabin',axis=1,inplace=True)"
   ]
  },
  {
   "cell_type": "code",
   "execution_count": 5,
   "metadata": {},
   "outputs": [],
   "source": [
    "training_DF.dropna(inplace=True)"
   ]
  },
  {
   "cell_type": "code",
   "execution_count": 6,
   "metadata": {},
   "outputs": [],
   "source": [
    "sex = pd.get_dummies(training_DF['Sex'])\n",
    "embark = pd.get_dummies(training_DF['Embarked'])"
   ]
  },
  {
   "cell_type": "code",
   "execution_count": 7,
   "metadata": {},
   "outputs": [],
   "source": [
    "training_DF.drop(['Sex','Embarked','Name','Ticket'],axis=1,inplace=True)"
   ]
  },
  {
   "cell_type": "code",
   "execution_count": 8,
   "metadata": {},
   "outputs": [],
   "source": [
    "training_DF = pd.concat([training_DF,sex,embark],axis=1)"
   ]
  },
  {
   "cell_type": "code",
   "execution_count": 9,
   "metadata": {},
   "outputs": [],
   "source": [
    "training_DF.drop(['female','C'],axis=1,inplace=True)"
   ]
  },
  {
   "cell_type": "code",
   "execution_count": 10,
   "metadata": {},
   "outputs": [],
   "source": [
    "from sklearn.model_selection import train_test_split"
   ]
  },
  {
   "cell_type": "code",
   "execution_count": 11,
   "metadata": {},
   "outputs": [],
   "source": [
    "X_train, X_test, y_train, y_test = train_test_split(training_DF.drop('Survived',axis=1), \n",
    "                                                    training_DF['Survived'], test_size=0.30, \n",
    "                                                    random_state=101)"
   ]
  },
  {
   "cell_type": "code",
   "execution_count": 14,
   "metadata": {},
   "outputs": [],
   "source": [
    "from sklearn.linear_model import SGDClassifier\n",
    "from sklearn.preprocessing import MinMaxScaler\n",
    "from sklearn.metrics import accuracy_score\n",
    "\n",
    "scaler = MinMaxScaler()\n",
    "X_train = scaler.fit_transform(X_train)"
   ]
  },
  {
   "cell_type": "code",
   "execution_count": 33,
   "metadata": {},
   "outputs": [
    {
     "name": "stdout",
     "output_type": "stream",
     "text": [
      "Confusion matrix for model  where loss is hinge and alpha is 0.0001\n",
      "[[69 94]\n",
      " [47 57]]\n",
      "Accuracy score for model 0.47191011235955055\n",
      "Precision score for model 0.37748344370860926\n",
      "Recall score for model 0.5480769230769231\n",
      "F1 score for model 0.4470588235294118\n",
      "-------------------------------------------\n",
      "Confusion matrix for model  where loss is hinge and alpha is 0.001\n",
      "[[162   1]\n",
      " [101   3]]\n",
      "Accuracy score for model 0.6179775280898876\n",
      "Precision score for model 0.75\n",
      "Recall score for model 0.028846153846153848\n",
      "F1 score for model 0.05555555555555555\n",
      "-------------------------------------------\n",
      "Confusion matrix for model  where loss is log_loss and alpha is 0.0001\n",
      "[[ 25 138]\n",
      " [ 12  92]]\n",
      "Accuracy score for model 0.43820224719101125\n",
      "Precision score for model 0.4\n",
      "Recall score for model 0.8846153846153846\n",
      "F1 score for model 0.5508982035928145\n",
      "-------------------------------------------\n",
      "Confusion matrix for model  where loss is log_loss and alpha is 0.001\n",
      "[[112  51]\n",
      " [ 52  52]]\n",
      "Accuracy score for model 0.6142322097378277\n",
      "Precision score for model 0.5048543689320388\n",
      "Recall score for model 0.5\n",
      "F1 score for model 0.5024154589371981\n",
      "-------------------------------------------\n",
      "Confusion matrix for model  where loss is modified_huber and alpha is 0.0001\n",
      "[[163   0]\n",
      " [104   0]]\n",
      "Accuracy score for model 0.6104868913857678\n",
      "Precision score for model 0.0\n",
      "Recall score for model 0.0\n",
      "F1 score for model 0.0\n",
      "-------------------------------------------\n",
      "Confusion matrix for model  where loss is modified_huber and alpha is 0.001\n",
      "[[ 25 138]\n",
      " [ 12  92]]\n",
      "Accuracy score for model 0.43820224719101125\n",
      "Precision score for model 0.4\n",
      "Recall score for model 0.8846153846153846\n",
      "F1 score for model 0.5508982035928145\n",
      "-------------------------------------------\n"
     ]
    },
    {
     "name": "stderr",
     "output_type": "stream",
     "text": [
      "/Users/riyagupta/anaconda3/lib/python3.11/site-packages/sklearn/base.py:457: UserWarning: X has feature names, but SGDClassifier was fitted without feature names\n",
      "  warnings.warn(\n",
      "/Users/riyagupta/anaconda3/lib/python3.11/site-packages/sklearn/base.py:457: UserWarning: X has feature names, but SGDClassifier was fitted without feature names\n",
      "  warnings.warn(\n",
      "/Users/riyagupta/anaconda3/lib/python3.11/site-packages/sklearn/base.py:457: UserWarning: X has feature names, but SGDClassifier was fitted without feature names\n",
      "  warnings.warn(\n",
      "/Users/riyagupta/anaconda3/lib/python3.11/site-packages/sklearn/base.py:457: UserWarning: X has feature names, but SGDClassifier was fitted without feature names\n",
      "  warnings.warn(\n",
      "/Users/riyagupta/anaconda3/lib/python3.11/site-packages/sklearn/base.py:457: UserWarning: X has feature names, but SGDClassifier was fitted without feature names\n",
      "  warnings.warn(\n",
      "/Users/riyagupta/anaconda3/lib/python3.11/site-packages/sklearn/metrics/_classification.py:1469: UndefinedMetricWarning: Precision is ill-defined and being set to 0.0 due to no predicted samples. Use `zero_division` parameter to control this behavior.\n",
      "  _warn_prf(average, modifier, msg_start, len(result))\n",
      "/Users/riyagupta/anaconda3/lib/python3.11/site-packages/sklearn/base.py:457: UserWarning: X has feature names, but SGDClassifier was fitted without feature names\n",
      "  warnings.warn(\n"
     ]
    }
   ],
   "source": [
    "# let's explore SGDClassifier parameters\n",
    "\n",
    "'''\n",
    "SGDClassifier(\n",
    "    loss='hinge',\n",
    "    penalty='l2',\n",
    "    alpha=0.0001,\n",
    "    l1_ratio=0.15,\n",
    "    fit_intercept=True,\n",
    "    max_iter=1000,\n",
    "    tol=0.001,\n",
    "    shuffle=True,\n",
    "    verbose=0,\n",
    "    epsilon=0.1,\n",
    "    n_jobs=None,\n",
    "    random_state=None,\n",
    "    learning_rate='optimal',\n",
    "    eta0=0.0,\n",
    "    power_t=0.5,\n",
    "    early_stopping=False,\n",
    "    validation_fraction=0.1,\n",
    "    n_iter_no_change=5,\n",
    "    class_weight=None,\n",
    "    warm_start=False,\n",
    "    average=False,\n",
    ")\n",
    "'''\n",
    "\n",
    "# Let's form SGD models with variation in paameters loss and alpha\n",
    "    # loss: 'hinge', 'log', and 'modified_huber'\n",
    "    # alpha: 0.0001 and 0.001\n",
    "    # explain and dicuss your findings\n",
    "    \n",
    "from sklearn.metrics import confusion_matrix\n",
    "from sklearn.metrics import accuracy_score\n",
    "from sklearn.metrics import precision_score\n",
    "from sklearn.metrics import recall_score\n",
    "from sklearn.metrics import f1_score\n",
    "\n",
    "def sgdclassifier(X_train, X_test, y_train, y_test):\n",
    "    losses = ['hinge', 'log_loss', 'modified_huber']\n",
    "    alphas = [0.0001, 0.001]\n",
    "    \n",
    "    for loss in losses:\n",
    "        for alpha in alphas:\n",
    "            model = SGDClassifier(loss=loss, alpha=alpha)\n",
    "            model.fit(X_train, y_train)\n",
    "            model_predictions = model.predict(X_test)\n",
    "            print(f\"Confusion matrix for model  where loss is {loss} and alpha is {alpha}\")\n",
    "            print(confusion_matrix(y_test,model_predictions))\n",
    "            print(\"Accuracy score for model\" , accuracy_score(y_test,model_predictions))\n",
    "            print(\"Precision score for model\" , precision_score(y_test,model_predictions))\n",
    "            print(\"Recall score for model\" , recall_score(y_test,model_predictions))\n",
    "            print(\"F1 score for model\" , f1_score(y_test,model_predictions))\n",
    "            print(\"-------------------------------------------\")\n",
    "            \n",
    "sgdclassifier(X_train, X_test, y_train, y_test)\n",
    "\n",
    "# Findings are that higher the f1 score better the model is and it depends on your data and the application you are using. The results vary with lower alpha and different loss."
   ]
  },
  {
   "cell_type": "code",
   "execution_count": null,
   "metadata": {},
   "outputs": [],
   "source": []
  }
 ],
 "metadata": {
  "kernelspec": {
   "display_name": "Python 3 (ipykernel)",
   "language": "python",
   "name": "python3"
  },
  "language_info": {
   "codemirror_mode": {
    "name": "ipython",
    "version": 3
   },
   "file_extension": ".py",
   "mimetype": "text/x-python",
   "name": "python",
   "nbconvert_exporter": "python",
   "pygments_lexer": "ipython3",
   "version": "3.11.5"
  }
 },
 "nbformat": 4,
 "nbformat_minor": 1
}
