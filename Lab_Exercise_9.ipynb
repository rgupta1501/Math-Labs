{
 "cells": [
  {
   "cell_type": "markdown",
   "metadata": {},
   "source": [
    "<p style=\"font-family: Arial; font-size:3em;color:black;\"> Session 5 - Lab Exercise 9</p>"
   ]
  },
  {
   "cell_type": "markdown",
   "metadata": {},
   "source": [
    "Students name in this Group:\n",
    "- Gabriel Okazaki\n",
    "- Julio Socher\n",
    "- Kateryna Solonenko\n",
    "- Mohit Sabharwal\n",
    "- Riya Gupta\n",
    "- Vaibhav Saini"
   ]
  },
  {
   "cell_type": "code",
   "execution_count": 61,
   "metadata": {},
   "outputs": [],
   "source": [
    "# For this example, we will use K-Means Clustering Project database from Kaggle (https://www.kaggle.com/faressayah/k-means-clustering-private-vs-public-universities)\n",
    "# We actually have the labels for this data set, but we will NOT use them for the KMeans clustering algorithm, since that is an unsupervised learning algorithm.\n",
    "# As we will shortly see, we have a data frame with 777 observations on 18 variables.\n",
    "\n",
    "import pandas as pd\n",
    "import numpy as np\n",
    "import matplotlib.pyplot as plt\n",
    "%matplotlib inline"
   ]
  },
  {
   "cell_type": "code",
   "execution_count": 62,
   "metadata": {},
   "outputs": [
    {
     "data": {
      "text/plain": [
       "Index(['Private', 'Apps', 'Accept', 'Enroll', 'Top10perc', 'Top25perc',\n",
       "       'F.Undergrad', 'P.Undergrad', 'Outstate', 'Room.Board', 'Books',\n",
       "       'Personal', 'PhD', 'Terminal', 'S.F.Ratio', 'perc.alumni', 'Expend',\n",
       "       'Grad.Rate'],\n",
       "      dtype='object')"
      ]
     },
     "execution_count": 62,
     "metadata": {},
     "output_type": "execute_result"
    }
   ],
   "source": [
    "df = pd.read_csv('data/College_Data',index_col=0)\n",
    "df.columns"
   ]
  },
  {
   "cell_type": "code",
   "execution_count": 63,
   "metadata": {},
   "outputs": [
    {
     "name": "stderr",
     "output_type": "stream",
     "text": [
      "/tmp/ipykernel_4423/3450590736.py:1: SettingWithCopyWarning: \n",
      "A value is trying to be set on a copy of a slice from a DataFrame\n",
      "\n",
      "See the caveats in the documentation: https://pandas.pydata.org/pandas-docs/stable/user_guide/indexing.html#returning-a-view-versus-a-copy\n",
      "  df['Grad.Rate']['Cazenovia College'] = 100\n"
     ]
    }
   ],
   "source": [
    "df['Grad.Rate']['Cazenovia College'] = 100\n",
    "\n",
    "# Try removing various columns (features) from the dataset and examin if it improves/degrades your K-Means model performance, or it may have little impact.\n",
    "# Report 10 cases where you removed one or more features and indicate how it impacted the model performance."
   ]
  },
  {
   "cell_type": "code",
   "execution_count": 64,
   "metadata": {},
   "outputs": [
    {
     "data": {
      "text/html": [
       "<div>\n",
       "<style scoped>\n",
       "    .dataframe tbody tr th:only-of-type {\n",
       "        vertical-align: middle;\n",
       "    }\n",
       "\n",
       "    .dataframe tbody tr th {\n",
       "        vertical-align: top;\n",
       "    }\n",
       "\n",
       "    .dataframe thead th {\n",
       "        text-align: right;\n",
       "    }\n",
       "</style>\n",
       "<table border=\"1\" class=\"dataframe\">\n",
       "  <thead>\n",
       "    <tr style=\"text-align: right;\">\n",
       "      <th></th>\n",
       "      <th>Private</th>\n",
       "      <th>Apps</th>\n",
       "      <th>Accept</th>\n",
       "      <th>Enroll</th>\n",
       "      <th>Top10perc</th>\n",
       "      <th>Top25perc</th>\n",
       "      <th>F.Undergrad</th>\n",
       "      <th>P.Undergrad</th>\n",
       "      <th>Outstate</th>\n",
       "      <th>Room.Board</th>\n",
       "      <th>Books</th>\n",
       "      <th>Personal</th>\n",
       "      <th>PhD</th>\n",
       "      <th>Terminal</th>\n",
       "      <th>S.F.Ratio</th>\n",
       "      <th>perc.alumni</th>\n",
       "      <th>Expend</th>\n",
       "      <th>Grad.Rate</th>\n",
       "    </tr>\n",
       "  </thead>\n",
       "  <tbody>\n",
       "    <tr>\n",
       "      <th>Abilene Christian University</th>\n",
       "      <td>Yes</td>\n",
       "      <td>1660</td>\n",
       "      <td>1232</td>\n",
       "      <td>721</td>\n",
       "      <td>23</td>\n",
       "      <td>52</td>\n",
       "      <td>2885</td>\n",
       "      <td>537</td>\n",
       "      <td>7440</td>\n",
       "      <td>3300</td>\n",
       "      <td>450</td>\n",
       "      <td>2200</td>\n",
       "      <td>70</td>\n",
       "      <td>78</td>\n",
       "      <td>18.1</td>\n",
       "      <td>12</td>\n",
       "      <td>7041</td>\n",
       "      <td>60</td>\n",
       "    </tr>\n",
       "    <tr>\n",
       "      <th>Adelphi University</th>\n",
       "      <td>Yes</td>\n",
       "      <td>2186</td>\n",
       "      <td>1924</td>\n",
       "      <td>512</td>\n",
       "      <td>16</td>\n",
       "      <td>29</td>\n",
       "      <td>2683</td>\n",
       "      <td>1227</td>\n",
       "      <td>12280</td>\n",
       "      <td>6450</td>\n",
       "      <td>750</td>\n",
       "      <td>1500</td>\n",
       "      <td>29</td>\n",
       "      <td>30</td>\n",
       "      <td>12.2</td>\n",
       "      <td>16</td>\n",
       "      <td>10527</td>\n",
       "      <td>56</td>\n",
       "    </tr>\n",
       "    <tr>\n",
       "      <th>Adrian College</th>\n",
       "      <td>Yes</td>\n",
       "      <td>1428</td>\n",
       "      <td>1097</td>\n",
       "      <td>336</td>\n",
       "      <td>22</td>\n",
       "      <td>50</td>\n",
       "      <td>1036</td>\n",
       "      <td>99</td>\n",
       "      <td>11250</td>\n",
       "      <td>3750</td>\n",
       "      <td>400</td>\n",
       "      <td>1165</td>\n",
       "      <td>53</td>\n",
       "      <td>66</td>\n",
       "      <td>12.9</td>\n",
       "      <td>30</td>\n",
       "      <td>8735</td>\n",
       "      <td>54</td>\n",
       "    </tr>\n",
       "    <tr>\n",
       "      <th>Agnes Scott College</th>\n",
       "      <td>Yes</td>\n",
       "      <td>417</td>\n",
       "      <td>349</td>\n",
       "      <td>137</td>\n",
       "      <td>60</td>\n",
       "      <td>89</td>\n",
       "      <td>510</td>\n",
       "      <td>63</td>\n",
       "      <td>12960</td>\n",
       "      <td>5450</td>\n",
       "      <td>450</td>\n",
       "      <td>875</td>\n",
       "      <td>92</td>\n",
       "      <td>97</td>\n",
       "      <td>7.7</td>\n",
       "      <td>37</td>\n",
       "      <td>19016</td>\n",
       "      <td>59</td>\n",
       "    </tr>\n",
       "    <tr>\n",
       "      <th>Alaska Pacific University</th>\n",
       "      <td>Yes</td>\n",
       "      <td>193</td>\n",
       "      <td>146</td>\n",
       "      <td>55</td>\n",
       "      <td>16</td>\n",
       "      <td>44</td>\n",
       "      <td>249</td>\n",
       "      <td>869</td>\n",
       "      <td>7560</td>\n",
       "      <td>4120</td>\n",
       "      <td>800</td>\n",
       "      <td>1500</td>\n",
       "      <td>76</td>\n",
       "      <td>72</td>\n",
       "      <td>11.9</td>\n",
       "      <td>2</td>\n",
       "      <td>10922</td>\n",
       "      <td>15</td>\n",
       "    </tr>\n",
       "  </tbody>\n",
       "</table>\n",
       "</div>"
      ],
      "text/plain": [
       "                             Private  Apps  Accept  Enroll  Top10perc  \\\n",
       "Abilene Christian University     Yes  1660    1232     721         23   \n",
       "Adelphi University               Yes  2186    1924     512         16   \n",
       "Adrian College                   Yes  1428    1097     336         22   \n",
       "Agnes Scott College              Yes   417     349     137         60   \n",
       "Alaska Pacific University        Yes   193     146      55         16   \n",
       "\n",
       "                              Top25perc  F.Undergrad  P.Undergrad  Outstate  \\\n",
       "Abilene Christian University         52         2885          537      7440   \n",
       "Adelphi University                   29         2683         1227     12280   \n",
       "Adrian College                       50         1036           99     11250   \n",
       "Agnes Scott College                  89          510           63     12960   \n",
       "Alaska Pacific University            44          249          869      7560   \n",
       "\n",
       "                              Room.Board  Books  Personal  PhD  Terminal  \\\n",
       "Abilene Christian University        3300    450      2200   70        78   \n",
       "Adelphi University                  6450    750      1500   29        30   \n",
       "Adrian College                      3750    400      1165   53        66   \n",
       "Agnes Scott College                 5450    450       875   92        97   \n",
       "Alaska Pacific University           4120    800      1500   76        72   \n",
       "\n",
       "                              S.F.Ratio  perc.alumni  Expend  Grad.Rate  \n",
       "Abilene Christian University       18.1           12    7041         60  \n",
       "Adelphi University                 12.2           16   10527         56  \n",
       "Adrian College                     12.9           30    8735         54  \n",
       "Agnes Scott College                 7.7           37   19016         59  \n",
       "Alaska Pacific University          11.9            2   10922         15  "
      ]
     },
     "execution_count": 64,
     "metadata": {},
     "output_type": "execute_result"
    }
   ],
   "source": [
    "df.head()"
   ]
  },
  {
   "cell_type": "code",
   "execution_count": 65,
   "metadata": {},
   "outputs": [
    {
     "name": "stdout",
     "output_type": "stream",
     "text": [
      "<class 'pandas.core.frame.DataFrame'>\n",
      "Index: 777 entries, Abilene Christian University to York College of Pennsylvania\n",
      "Data columns (total 18 columns):\n",
      " #   Column       Non-Null Count  Dtype  \n",
      "---  ------       --------------  -----  \n",
      " 0   Private      777 non-null    object \n",
      " 1   Apps         777 non-null    int64  \n",
      " 2   Accept       777 non-null    int64  \n",
      " 3   Enroll       777 non-null    int64  \n",
      " 4   Top10perc    777 non-null    int64  \n",
      " 5   Top25perc    777 non-null    int64  \n",
      " 6   F.Undergrad  777 non-null    int64  \n",
      " 7   P.Undergrad  777 non-null    int64  \n",
      " 8   Outstate     777 non-null    int64  \n",
      " 9   Room.Board   777 non-null    int64  \n",
      " 10  Books        777 non-null    int64  \n",
      " 11  Personal     777 non-null    int64  \n",
      " 12  PhD          777 non-null    int64  \n",
      " 13  Terminal     777 non-null    int64  \n",
      " 14  S.F.Ratio    777 non-null    float64\n",
      " 15  perc.alumni  777 non-null    int64  \n",
      " 16  Expend       777 non-null    int64  \n",
      " 17  Grad.Rate    777 non-null    int64  \n",
      "dtypes: float64(1), int64(16), object(1)\n",
      "memory usage: 131.5+ KB\n"
     ]
    }
   ],
   "source": [
    "df.info()"
   ]
  },
  {
   "cell_type": "code",
   "execution_count": 66,
   "metadata": {},
   "outputs": [],
   "source": [
    "from sklearn.cluster import KMeans"
   ]
  },
  {
   "cell_type": "code",
   "execution_count": 67,
   "metadata": {},
   "outputs": [],
   "source": [
    "kmeans = KMeans(n_clusters=2, random_state=2)"
   ]
  },
  {
   "cell_type": "code",
   "execution_count": 68,
   "metadata": {},
   "outputs": [
    {
     "name": "stderr",
     "output_type": "stream",
     "text": [
      "/home/gabs/Projects/2024/george_brown/app_math/app_math_env/lib/python3.10/site-packages/sklearn/cluster/_kmeans.py:1416: FutureWarning: The default value of `n_init` will change from 10 to 'auto' in 1.4. Set the value of `n_init` explicitly to suppress the warning\n",
      "  super()._check_params_vs_input(X, default_n_init=10)\n"
     ]
    }
   ],
   "source": [
    "kmeans.fit(df.drop('Private',axis=1))\n",
    "Cluster_predict=kmeans.predict(df.drop('Private',axis=1))\n",
    "df['Cluster_predict'] = Cluster_predict"
   ]
  },
  {
   "cell_type": "code",
   "execution_count": 69,
   "metadata": {},
   "outputs": [],
   "source": [
    "def convert_to_binary(cluster):  # converts labels for Private into binary values of 0 and 1\n",
    "    if cluster=='Yes':\n",
    "        return 1\n",
    "    else:\n",
    "        return 0"
   ]
  },
  {
   "cell_type": "code",
   "execution_count": 70,
   "metadata": {},
   "outputs": [],
   "source": [
    "df['Cluster_actual'] = df['Private'].apply(convert_to_binary)"
   ]
  },
  {
   "cell_type": "code",
   "execution_count": 71,
   "metadata": {},
   "outputs": [
    {
     "data": {
      "text/plain": [
       "Cluster_actual\n",
       "1    565\n",
       "0    212\n",
       "Name: count, dtype: int64"
      ]
     },
     "execution_count": 71,
     "metadata": {},
     "output_type": "execute_result"
    }
   ],
   "source": [
    "df['Cluster_actual'].value_counts()"
   ]
  },
  {
   "cell_type": "code",
   "execution_count": 72,
   "metadata": {},
   "outputs": [
    {
     "data": {
      "text/plain": [
       "Cluster_predict\n",
       "1    669\n",
       "0    108\n",
       "Name: count, dtype: int64"
      ]
     },
     "execution_count": 72,
     "metadata": {},
     "output_type": "execute_result"
    }
   ],
   "source": [
    "df['Cluster_predict'].value_counts()"
   ]
  },
  {
   "cell_type": "code",
   "execution_count": 73,
   "metadata": {},
   "outputs": [
    {
     "data": {
      "text/plain": [
       "108"
      ]
     },
     "execution_count": 73,
     "metadata": {},
     "output_type": "execute_result"
    }
   ],
   "source": [
    "df['Cluster_predict'].value_counts()[0]"
   ]
  },
  {
   "cell_type": "code",
   "execution_count": 74,
   "metadata": {},
   "outputs": [],
   "source": [
    "from sklearn.metrics import confusion_matrix, accuracy_score"
   ]
  },
  {
   "cell_type": "code",
   "execution_count": 75,
   "metadata": {},
   "outputs": [
    {
     "name": "stdout",
     "output_type": "stream",
     "text": [
      "Baseline:\n",
      "[[ 74 138]\n",
      " [ 34 531]]\n",
      "Accuracy score: 0.7786357786357786\n"
     ]
    }
   ],
   "source": [
    "print('Baseline:')\n",
    "print(confusion_matrix(df['Cluster_actual'],kmeans.labels_))\n",
    "print(f\"Accuracy score: {accuracy_score(df['Cluster_actual'], kmeans.labels_)}\")"
   ]
  },
  {
   "cell_type": "code",
   "execution_count": 76,
   "metadata": {},
   "outputs": [],
   "source": [
    "def try_model_with_dropped_feature(feature):\n",
    "    df_copy = df.copy()\n",
    "    kmeans = KMeans(n_clusters=2, n_init=10, random_state=2)\n",
    "    print(f\"Dropping feature: {feature}\")\n",
    "    kmeans.fit(df_copy.drop(['Private', feature],axis=1))\n",
    "    Cluster_predict=kmeans.predict(df_copy.drop(['Private', feature],axis=1))\n",
    "    df_copy['Cluster_predict'] = Cluster_predict\n",
    "\n",
    "    # Invert cluster labels if 0 is predominant\n",
    "    if df_copy['Cluster_predict'].value_counts()[1] < df_copy['Cluster_predict'].value_counts()[0]:\n",
    "        df_copy['Cluster_predict'] = df_copy['Cluster_predict'].replace({0:1, 1:0})\n",
    "\n",
    "    print(df_copy['Cluster_predict'].value_counts())\n",
    "    print('Confusion matrix:')\n",
    "    print(confusion_matrix(df['Cluster_actual'],kmeans.labels_))\n",
    "    print(f\"Accuracy score: {accuracy_score(df['Cluster_actual'], kmeans.labels_)}\\n\")"
   ]
  },
  {
   "cell_type": "code",
   "execution_count": 77,
   "metadata": {},
   "outputs": [
    {
     "data": {
      "text/plain": [
       "['Apps',\n",
       " 'Accept',\n",
       " 'Enroll',\n",
       " 'Top10perc',\n",
       " 'Top25perc',\n",
       " 'F.Undergrad',\n",
       " 'P.Undergrad',\n",
       " 'Outstate',\n",
       " 'Room.Board',\n",
       " 'Books',\n",
       " 'Personal',\n",
       " 'PhD',\n",
       " 'Terminal',\n",
       " 'S.F.Ratio',\n",
       " 'perc.alumni',\n",
       " 'Expend',\n",
       " 'Grad.Rate']"
      ]
     },
     "execution_count": 77,
     "metadata": {},
     "output_type": "execute_result"
    }
   ],
   "source": [
    "non_feature_colums = ['Private', 'Cluster_predict', 'Cluster_actual']\n",
    "features_to_remove = [feature for feature in df.columns.tolist() if feature not in non_feature_colums]\n",
    "features_to_remove"
   ]
  },
  {
   "cell_type": "code",
   "execution_count": 78,
   "metadata": {},
   "outputs": [
    {
     "name": "stdout",
     "output_type": "stream",
     "text": [
      "Dropping feature: Apps\n"
     ]
    },
    {
     "name": "stdout",
     "output_type": "stream",
     "text": [
      "Cluster_predict\n",
      "1    625\n",
      "0    152\n",
      "Name: count, dtype: int64\n",
      "Confusion matrix:\n",
      "[[209   3]\n",
      " [416 149]]\n",
      "Accuracy score: 0.46074646074646075\n",
      "\n",
      "Dropping feature: Accept\n",
      "Cluster_predict\n",
      "1    674\n",
      "0    103\n",
      "Name: count, dtype: int64\n",
      "Confusion matrix:\n",
      "[[140  72]\n",
      " [534  31]]\n",
      "Accuracy score: 0.22007722007722008\n",
      "\n",
      "Dropping feature: Enroll\n",
      "Cluster_predict\n",
      "1    669\n",
      "0    108\n",
      "Name: count, dtype: int64\n",
      "Confusion matrix:\n",
      "[[ 74 138]\n",
      " [ 34 531]]\n",
      "Accuracy score: 0.7786357786357786\n",
      "\n",
      "Dropping feature: Top10perc\n",
      "Cluster_predict\n",
      "1    669\n",
      "0    108\n",
      "Name: count, dtype: int64\n",
      "Confusion matrix:\n",
      "[[ 74 138]\n",
      " [ 34 531]]\n",
      "Accuracy score: 0.7786357786357786\n",
      "\n",
      "Dropping feature: Top25perc\n",
      "Cluster_predict\n",
      "1    669\n",
      "0    108\n",
      "Name: count, dtype: int64\n",
      "Confusion matrix:\n",
      "[[ 74 138]\n",
      " [ 34 531]]\n",
      "Accuracy score: 0.7786357786357786\n",
      "\n",
      "Dropping feature: F.Undergrad\n",
      "Cluster_predict\n",
      "1    616\n",
      "0    161\n",
      "Name: count, dtype: int64\n",
      "Confusion matrix:\n",
      "[[189  23]\n",
      " [427 138]]\n",
      "Accuracy score: 0.42084942084942084\n",
      "\n",
      "Dropping feature: P.Undergrad\n",
      "Cluster_predict\n",
      "1    671\n",
      "0    106\n",
      "Name: count, dtype: int64\n",
      "Confusion matrix:\n",
      "[[ 72 140]\n",
      " [ 34 531]]\n",
      "Accuracy score: 0.7760617760617761\n",
      "\n",
      "Dropping feature: Outstate\n",
      "Cluster_predict\n",
      "1    669\n",
      "0    108\n",
      "Name: count, dtype: int64\n",
      "Confusion matrix:\n",
      "[[138  74]\n",
      " [531  34]]\n",
      "Accuracy score: 0.22136422136422138\n",
      "\n",
      "Dropping feature: Room.Board\n",
      "Cluster_predict\n",
      "1    669\n",
      "0    108\n",
      "Name: count, dtype: int64\n",
      "Confusion matrix:\n",
      "[[ 74 138]\n",
      " [ 34 531]]\n",
      "Accuracy score: 0.7786357786357786\n",
      "\n",
      "Dropping feature: Books\n",
      "Cluster_predict\n",
      "1    669\n",
      "0    108\n",
      "Name: count, dtype: int64\n",
      "Confusion matrix:\n",
      "[[ 74 138]\n",
      " [ 34 531]]\n",
      "Accuracy score: 0.7786357786357786\n",
      "\n",
      "Dropping feature: Personal\n",
      "Cluster_predict\n",
      "1    669\n",
      "0    108\n",
      "Name: count, dtype: int64\n",
      "Confusion matrix:\n",
      "[[ 74 138]\n",
      " [ 34 531]]\n",
      "Accuracy score: 0.7786357786357786\n",
      "\n",
      "Dropping feature: PhD\n",
      "Cluster_predict\n",
      "1    669\n",
      "0    108\n",
      "Name: count, dtype: int64\n",
      "Confusion matrix:\n",
      "[[ 74 138]\n",
      " [ 34 531]]\n",
      "Accuracy score: 0.7786357786357786\n",
      "\n",
      "Dropping feature: Terminal\n",
      "Cluster_predict\n",
      "1    669\n",
      "0    108\n",
      "Name: count, dtype: int64\n",
      "Confusion matrix:\n",
      "[[ 74 138]\n",
      " [ 34 531]]\n",
      "Accuracy score: 0.7786357786357786\n",
      "\n",
      "Dropping feature: S.F.Ratio\n",
      "Cluster_predict\n",
      "1    669\n",
      "0    108\n",
      "Name: count, dtype: int64\n",
      "Confusion matrix:\n",
      "[[ 74 138]\n",
      " [ 34 531]]\n",
      "Accuracy score: 0.7786357786357786\n",
      "\n",
      "Dropping feature: perc.alumni\n",
      "Cluster_predict\n",
      "1    669\n",
      "0    108\n",
      "Name: count, dtype: int64\n",
      "Confusion matrix:\n",
      "[[ 74 138]\n",
      " [ 34 531]]\n",
      "Accuracy score: 0.7786357786357786\n",
      "\n",
      "Dropping feature: Expend\n",
      "Cluster_predict\n",
      "1    674\n",
      "0    103\n",
      "Name: count, dtype: int64\n",
      "Confusion matrix:\n",
      "[[121  91]\n",
      " [553  12]]\n",
      "Accuracy score: 0.17117117117117117\n",
      "\n",
      "Dropping feature: Grad.Rate\n",
      "Cluster_predict\n",
      "1    669\n",
      "0    108\n",
      "Name: count, dtype: int64\n",
      "Confusion matrix:\n",
      "[[ 74 138]\n",
      " [ 34 531]]\n",
      "Accuracy score: 0.7786357786357786\n",
      "\n"
     ]
    }
   ],
   "source": [
    "for feature in features_to_remove:\n",
    "    try_model_with_dropped_feature(feature)"
   ]
  },
  {
   "cell_type": "markdown",
   "metadata": {},
   "source": [
    "Looking at the results of removing features individually, we had a loss of accuracy in the following cases:\n",
    "- Apps\n",
    "- Accept\n",
    "- F.Undergrad\n",
    "- Outstate\n",
    "- Expend\n",
    "\n",
    "These results sugest that these are the most important features for determining if a college is private or public"
   ]
  },
  {
   "cell_type": "markdown",
   "metadata": {},
   "source": []
  }
 ],
 "metadata": {
  "kernelspec": {
   "display_name": "Python 3 (ipykernel)",
   "language": "python",
   "name": "python3"
  },
  "language_info": {
   "codemirror_mode": {
    "name": "ipython",
    "version": 3
   },
   "file_extension": ".py",
   "mimetype": "text/x-python",
   "name": "python",
   "nbconvert_exporter": "python",
   "pygments_lexer": "ipython3",
   "version": "3.10.4"
  }
 },
 "nbformat": 4,
 "nbformat_minor": 1
}
