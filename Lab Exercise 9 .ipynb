{
 "cells": [
  {
   "cell_type": "markdown",
   "metadata": {},
   "source": [
    "<p style=\"font-family: Arial; font-size:3em;color:black;\"> Session 5 - Lab Exercise 9</p>"
   ]
  },
  {
   "cell_type": "code",
   "execution_count": 43,
   "metadata": {},
   "outputs": [],
   "source": [
    "# For this example, we will use K-Means Clustering Project database from Kaggle (https://www.kaggle.com/faressayah/k-means-clustering-private-vs-public-universities)\n",
    "# We actually have the labels for this data set, but we will NOT use them for the KMeans clustering algorithm, since that is an unsupervised learning algorithm.\n",
    "# As we will shortly see, we have a data frame with 777 observations on 18 variables.\n",
    "\n",
    "import pandas as pd\n",
    "import numpy as np\n",
    "import matplotlib.pyplot as plt\n",
    "from sklearn.cluster import KMeans\n",
    "from sklearn.preprocessing import StandardScaler\n",
    "from sklearn.metrics import silhouette_score\n",
    "%matplotlib inline"
   ]
  },
  {
   "cell_type": "code",
   "execution_count": 44,
   "metadata": {},
   "outputs": [
    {
     "data": {
      "text/plain": [
       "Index(['apps', 'accept', 'enroll', 'top10perc', 'top25perc', 'f_undergrad',\n",
       "       'p_undergrad', 'outstate', 'room_board', 'books', 'personal', 'phd',\n",
       "       'terminal', 's_f_ratio', 'perc_alumni', 'expend', 'grad_rate'],\n",
       "      dtype='object')"
      ]
     },
     "execution_count": 44,
     "metadata": {},
     "output_type": "execute_result"
    }
   ],
   "source": [
    "df = pd.read_csv('data.csv',index_col=0)\n",
    "df.columns"
   ]
  },
  {
   "cell_type": "code",
   "execution_count": 45,
   "metadata": {},
   "outputs": [
    {
     "name": "stderr",
     "output_type": "stream",
     "text": [
      "/tmp/ipykernel_47183/3976904661.py:1: SettingWithCopyWarning: \n",
      "A value is trying to be set on a copy of a slice from a DataFrame\n",
      "\n",
      "See the caveats in the documentation: https://pandas.pydata.org/pandas-docs/stable/user_guide/indexing.html#returning-a-view-versus-a-copy\n",
      "  df['grad_rate']['Cazenovia College'] = 100\n"
     ]
    }
   ],
   "source": [
    "df['grad_rate']['Cazenovia College'] = 100\n",
    "\n",
    "# Try removing various columns (features) from the dataset and examin if it improves/degrades your K-Means model performance, or it may have little impact.\n",
    "# Report 10 cases where you removed one or more features and indicate how it impacted the model performance."
   ]
  },
  {
   "cell_type": "code",
   "execution_count": 46,
   "metadata": {},
   "outputs": [],
   "source": [
    "def kmeans_evaluation(df):\n",
    "    # Initialize KMeans with a chosen number of clusters\n",
    "    kmeans = KMeans(n_clusters=2, random_state=42)\n",
    "\n",
    "    # Fit KMeans to the data\n",
    "    kmeans.fit(df)\n",
    "\n",
    "    # Get cluster assignments for each data point\n",
    "    labels_pred = kmeans.labels_\n",
    "\n",
    "    # Evaluate the silhouette score (a higher score is better)\n",
    "    silhouette_avg = silhouette_score(df, labels_pred)\n",
    "    \n",
    "    return silhouette_avg"
   ]
  },
  {
   "cell_type": "code",
   "execution_count": 47,
   "metadata": {},
   "outputs": [
    {
     "name": "stdout",
     "output_type": "stream",
     "text": [
      "Original Performance: 0.5599267817640777\n"
     ]
    },
    {
     "name": "stderr",
     "output_type": "stream",
     "text": [
      "/home/harish/anaconda3/lib/python3.11/site-packages/sklearn/cluster/_kmeans.py:1412: FutureWarning: The default value of `n_init` will change from 10 to 'auto' in 1.4. Set the value of `n_init` explicitly to suppress the warning\n",
      "  super()._check_params_vs_input(X, default_n_init=10)\n"
     ]
    }
   ],
   "source": [
    "# Original performance\n",
    "original_performance = kmeans_evaluation(df)\n",
    "print(f\"Original Performance: {original_performance:}\")"
   ]
  },
  {
   "cell_type": "code",
   "execution_count": 48,
   "metadata": {},
   "outputs": [
    {
     "name": "stderr",
     "output_type": "stream",
     "text": [
      "/home/harish/anaconda3/lib/python3.11/site-packages/sklearn/cluster/_kmeans.py:1412: FutureWarning: The default value of `n_init` will change from 10 to 'auto' in 1.4. Set the value of `n_init` explicitly to suppress the warning\n",
      "  super()._check_params_vs_input(X, default_n_init=10)\n",
      "/home/harish/anaconda3/lib/python3.11/site-packages/sklearn/cluster/_kmeans.py:1412: FutureWarning: The default value of `n_init` will change from 10 to 'auto' in 1.4. Set the value of `n_init` explicitly to suppress the warning\n",
      "  super()._check_params_vs_input(X, default_n_init=10)\n",
      "/home/harish/anaconda3/lib/python3.11/site-packages/sklearn/cluster/_kmeans.py:1412: FutureWarning: The default value of `n_init` will change from 10 to 'auto' in 1.4. Set the value of `n_init` explicitly to suppress the warning\n",
      "  super()._check_params_vs_input(X, default_n_init=10)\n",
      "/home/harish/anaconda3/lib/python3.11/site-packages/sklearn/cluster/_kmeans.py:1412: FutureWarning: The default value of `n_init` will change from 10 to 'auto' in 1.4. Set the value of `n_init` explicitly to suppress the warning\n",
      "  super()._check_params_vs_input(X, default_n_init=10)\n"
     ]
    },
    {
     "name": "stdout",
     "output_type": "stream",
     "text": [
      "Removed Features: ['outstate' 'f_undergrad' 'grad_rate' 'personal' 'room_board'\n",
      " 'p_undergrad' 'terminal' 'books' 'top10perc' 'enroll' 'expend']\n",
      "Performance After Removal: 0.7482580700179321\n",
      "--------------------------------------------------\n",
      "Removed Features: ['accept' 'grad_rate' 's_f_ratio' 'p_undergrad' 'books' 'perc_alumni'\n",
      " 'personal' 'top10perc' 'expend' 'terminal' 'apps' 'outstate' 'top25perc'\n",
      " 'room_board']\n",
      "Performance After Removal: 0.7917805510504055\n",
      "--------------------------------------------------\n",
      "Removed Features: ['apps' 'top25perc' 'top10perc' 'personal' 'p_undergrad' 's_f_ratio'\n",
      " 'perc_alumni' 'phd' 'outstate' 'grad_rate' 'terminal' 'f_undergrad'\n",
      " 'books' 'room_board' 'accept' 'expend']\n",
      "Performance After Removal: 0.7715436820700637\n",
      "--------------------------------------------------\n",
      "Removed Features: ['s_f_ratio' 'phd']\n",
      "Performance After Removal: 0.5599283524022298\n",
      "--------------------------------------------------\n"
     ]
    },
    {
     "name": "stderr",
     "output_type": "stream",
     "text": [
      "/home/harish/anaconda3/lib/python3.11/site-packages/sklearn/cluster/_kmeans.py:1412: FutureWarning: The default value of `n_init` will change from 10 to 'auto' in 1.4. Set the value of `n_init` explicitly to suppress the warning\n",
      "  super()._check_params_vs_input(X, default_n_init=10)\n"
     ]
    },
    {
     "name": "stdout",
     "output_type": "stream",
     "text": [
      "Removed Features: ['top25perc' 'phd' 'books' 'personal' 'f_undergrad' 'accept' 's_f_ratio'\n",
      " 'expend' 'grad_rate' 'enroll']\n",
      "Performance After Removal: 0.38876630779652444\n",
      "--------------------------------------------------\n"
     ]
    },
    {
     "name": "stderr",
     "output_type": "stream",
     "text": [
      "/home/harish/anaconda3/lib/python3.11/site-packages/sklearn/cluster/_kmeans.py:1412: FutureWarning: The default value of `n_init` will change from 10 to 'auto' in 1.4. Set the value of `n_init` explicitly to suppress the warning\n",
      "  super()._check_params_vs_input(X, default_n_init=10)\n",
      "/home/harish/anaconda3/lib/python3.11/site-packages/sklearn/cluster/_kmeans.py:1412: FutureWarning: The default value of `n_init` will change from 10 to 'auto' in 1.4. Set the value of `n_init` explicitly to suppress the warning\n",
      "  super()._check_params_vs_input(X, default_n_init=10)\n",
      "/home/harish/anaconda3/lib/python3.11/site-packages/sklearn/cluster/_kmeans.py:1412: FutureWarning: The default value of `n_init` will change from 10 to 'auto' in 1.4. Set the value of `n_init` explicitly to suppress the warning\n",
      "  super()._check_params_vs_input(X, default_n_init=10)\n",
      "/home/harish/anaconda3/lib/python3.11/site-packages/sklearn/cluster/_kmeans.py:1412: FutureWarning: The default value of `n_init` will change from 10 to 'auto' in 1.4. Set the value of `n_init` explicitly to suppress the warning\n",
      "  super()._check_params_vs_input(X, default_n_init=10)\n"
     ]
    },
    {
     "name": "stdout",
     "output_type": "stream",
     "text": [
      "Removed Features: ['room_board' 'accept' 'enroll' 'perc_alumni' 'terminal' 'p_undergrad']\n",
      "Performance After Removal: 0.5635935525857935\n",
      "--------------------------------------------------\n",
      "Removed Features: ['phd' 'personal' 'top25perc' 'apps' 'grad_rate' 'f_undergrad']\n",
      "Performance After Removal: 0.510486260355355\n",
      "--------------------------------------------------\n",
      "Removed Features: ['outstate' 'enroll' 'personal' 'top10perc' 'phd' 'f_undergrad' 'accept'\n",
      " 'terminal' 'expend' 'apps' 'perc_alumni' 'room_board']\n",
      "Performance After Removal: 0.8104277931050469\n",
      "--------------------------------------------------\n",
      "Removed Features: ['top10perc']\n",
      "Performance After Removal: 0.5599277357650102\n",
      "--------------------------------------------------\n"
     ]
    },
    {
     "name": "stderr",
     "output_type": "stream",
     "text": [
      "/home/harish/anaconda3/lib/python3.11/site-packages/sklearn/cluster/_kmeans.py:1412: FutureWarning: The default value of `n_init` will change from 10 to 'auto' in 1.4. Set the value of `n_init` explicitly to suppress the warning\n",
      "  super()._check_params_vs_input(X, default_n_init=10)\n"
     ]
    },
    {
     "name": "stdout",
     "output_type": "stream",
     "text": [
      "Removed Features: ['room_board']\n",
      "Performance After Removal: 0.5657237315644399\n",
      "--------------------------------------------------\n"
     ]
    }
   ],
   "source": [
    "for _ in range(10):\n",
    "    features_to_remove = np.random.choice(df.columns, size=np.random.randint(1, len(df.columns)), replace=False)\n",
    "\n",
    "    df_removed = df.drop(features_to_remove, axis=1)\n",
    "\n",
    "    performance_after_removal = kmeans_evaluation(df_removed)\n",
    "    \n",
    "    print(f\"Removed Features: {features_to_remove}\")\n",
    "    print(f\"Performance After Removal: {performance_after_removal:}\")\n",
    "    print(\"-\" * 50)"
   ]
  },
  {
   "cell_type": "code",
   "execution_count": null,
   "metadata": {},
   "outputs": [],
   "source": []
  }
 ],
 "metadata": {
  "kernelspec": {
   "display_name": "Python 3 (ipykernel)",
   "language": "python",
   "name": "python3"
  },
  "language_info": {
   "codemirror_mode": {
    "name": "ipython",
    "version": 3
   },
   "file_extension": ".py",
   "mimetype": "text/x-python",
   "name": "python",
   "nbconvert_exporter": "python",
   "pygments_lexer": "ipython3",
   "version": "3.9.7"
  }
 },
 "nbformat": 4,
 "nbformat_minor": 4
}
